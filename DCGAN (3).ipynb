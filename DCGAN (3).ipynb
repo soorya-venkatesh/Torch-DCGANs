{
 "cells": [
  {
   "cell_type": "markdown",
   "metadata": {},
   "source": [
    "# Section 1: Introduction\n",
    "- The aim of the experiment is to train a DCGAN on the bitmoji dataset.\n",
    "- Sample 1000 images using the trained generator and calculate the FID metric\n",
    "- The dataset used can be accessed here: https://www.kaggle.com/datasets/mostafamozafari/bitmoji-faces "
   ]
  },
  {
   "cell_type": "markdown",
   "metadata": {},
   "source": [
    "# Section 2: Importing required libraries and dataset into VM "
   ]
  },
  {
   "cell_type": "code",
   "execution_count": 1,
   "metadata": {
    "id": "5L2qyPFZSIJM"
   },
   "outputs": [],
   "source": [
    "import torch.nn as nn\n",
    "import torch.nn.functional as F\n",
    "import torch\n",
    "\n",
    "import glob\n",
    "import random\n",
    "import os\n",
    "import numpy as np\n",
    "import time\n",
    "import sys\n",
    "import datetime\n",
    "import shutil\n",
    "from matplotlib import pyplot as plt\n",
    "from torch.utils.data import Dataset\n",
    "from PIL import Image\n",
    "import torchvision.transforms as transforms\n",
    "from pathlib import Path\n",
    "\n",
    "from torchvision.utils import save_image\n",
    "from torch.utils.data import DataLoader\n",
    "from torchvision import datasets\n",
    "from torch.autograd import Variable"
   ]
  },
  {
   "cell_type": "code",
   "execution_count": null,
   "metadata": {
    "colab": {
     "base_uri": "https://localhost:8080/"
    },
    "id": "Tp258CXMTH0A",
    "outputId": "1c76f27c-1a7b-4019-ebf1-b4eea769baf7"
   },
   "outputs": [
    {
     "name": "stdout",
     "output_type": "stream",
     "text": [
      "Drive already mounted at /content/drive; to attempt to forcibly remount, call drive.mount(\"/content/drive\", force_remount=True).\n"
     ]
    }
   ],
   "source": [
    "train_dir=r'/home/bitmoji/train'\n",
    "val_dir=r'/home/bitmoji/val'\n",
    "save_dir=r'/home/bitmoji/saved_images'\n",
    "model_save_path=r'/home/bitmoji/saved_models'\n",
    "\n",
    "os.makedirs('/home/bitmoji',exist_ok=True)\n",
    "os.makedirs(train_dir,exist_ok=True)\n",
    "os.makedirs(val_dir,exist_ok=True)\n",
    "os.makedirs(save_dir,exist_ok=True)\n",
    "os.makedirs(model_save_path,exist_ok=True)"
   ]
  },
  {
   "cell_type": "code",
   "execution_count": null,
   "metadata": {
    "id": "W1J5t2TbHH3T"
   },
   "outputs": [],
   "source": [
    "!unzip /home/bitmoji_dataset.zip -d /home/bitmoji"
   ]
  },
  {
   "cell_type": "code",
   "execution_count": 5,
   "metadata": {
    "colab": {
     "base_uri": "https://localhost:8080/"
    },
    "id": "r5pbahWWIE-4",
    "outputId": "98ad6632-7759-4fb2-8af8-71e9efe15cb3"
   },
   "outputs": [
    {
     "name": "stdout",
     "output_type": "stream",
     "text": [
      "Number of Training Images: 129227\n",
      "Number of Validation Images: 1000\n"
     ]
    }
   ],
   "source": [
    "all_files=[file_path for file_path in Path(r'/home/bitmoji/bitmojis').glob('*.png')]\n",
    "# all_files=os.listdir(r'/content/bitmoji/bitmojis')\n",
    "\n",
    "val_files = random.sample(all_files,1000)\n",
    "\n",
    "for file in val_files:\n",
    "  shutil.move(file.as_posix(),val_dir)\n",
    "\n",
    "all_files=[file_path for file_path in Path(r'/home/bitmoji/bitmojis').glob('*.png')]\n",
    "train_files=random.sample(all_files,len(all_files))\n",
    "\n",
    "for file in train_files:\n",
    "  shutil.move(file.as_posix(),train_dir)\n",
    "\n",
    "\n",
    "print('Number of Training Images:',len(os.listdir(train_dir)))\n",
    "print('Number of Validation Images:',len(os.listdir(val_dir)))"
   ]
  },
  {
   "cell_type": "markdown",
   "metadata": {},
   "source": [
    "# Section 3: setting main hyperparameters"
   ]
  },
  {
   "cell_type": "code",
   "execution_count": 5,
   "metadata": {},
   "outputs": [],
   "source": [
    "img_size=64  # h,w of img\n",
    "batch_size=1024\n",
    "channels=3\n",
    "latent_dim=100 \n",
    "n_epochs=150\n",
    "lr=0.0002\n",
    "sample_interval=100 #sample at every 100 steps\n",
    "checkpoint_interval =20 #checkpoint at every 20 epochs\n",
    "\n",
    "device = torch.device('cuda:0' if torch.cuda.is_available() else 'cpu')"
   ]
  },
  {
   "cell_type": "markdown",
   "metadata": {},
   "source": [
    "# Section 4: Setting up torch dataloaders"
   ]
  },
  {
   "cell_type": "code",
   "execution_count": 6,
   "metadata": {
    "id": "wO6BG_nPL2EM"
   },
   "outputs": [],
   "source": [
    "class ImageDataset(Dataset):\n",
    "    def __init__(self, root_source, transforms_=None):\n",
    "        \n",
    "        self.transform = transforms.Compose(transforms_)\n",
    "        self.files = sorted([img_path.as_posix() for img_path in Path(root_source).glob('*')])\n",
    "\n",
    "    def __getitem__(self, index):\n",
    "\n",
    "        img = Image.open(self.files[index])\n",
    "        img = self.transform(img)  \n",
    "        return img\n",
    "\n",
    "    def __len__(self):\n",
    "        return len(self.files)"
   ]
  },
  {
   "cell_type": "code",
   "execution_count": 7,
   "metadata": {
    "colab": {
     "base_uri": "https://localhost:8080/"
    },
    "id": "Xt75WgN3L5P7",
    "outputId": "7774ac97-b04d-4bfb-cc3c-a2821d0eb380"
   },
   "outputs": [],
   "source": [
    "# transforms_ = [\n",
    "    \n",
    "#     transforms.Resize((img_size,img_size), Image.BICUBIC),\n",
    "#     transforms.ToTensor(),\n",
    "#     transforms.Normalize((0.5, 0.5, 0.5), (0.5, 0.5, 0.5)),\n",
    "# ]\n",
    "transforms_ = [transforms.Resize(img_size), transforms.ToTensor(), transforms.Normalize([0.5], [0.5])]\n",
    "\n",
    "dataloader = DataLoader(\n",
    "    ImageDataset(train_dir, transforms_=transforms_),\n",
    "    batch_size=batch_size,\n",
    "    shuffle=True,\n",
    "    num_workers=6,\n",
    "    pin_memory=True\n",
    ")\n",
    "\n",
    "val_dataloader = DataLoader(\n",
    "    ImageDataset(val_dir, transforms_=transforms_),\n",
    "    batch_size=batch_size,\n",
    "    shuffle=True,\n",
    "    num_workers=6,\n",
    "    pin_memory=True\n",
    ")"
   ]
  },
  {
   "cell_type": "markdown",
   "metadata": {},
   "source": [
    "# Section 5: Defining the models"
   ]
  },
  {
   "cell_type": "markdown",
   "metadata": {},
   "source": [
    "## Section 5.1: Defining the generator "
   ]
  },
  {
   "cell_type": "code",
   "execution_count": 2,
   "metadata": {
    "id": "iPYpzYRDUW7k"
   },
   "outputs": [],
   "source": [
    "class Generator(nn.Module):\n",
    "    def __init__(self):\n",
    "        super(Generator, self).__init__()\n",
    "\n",
    "        self.init_size = img_size // 4\n",
    "        # print(self.init_size)\n",
    "        self.l1 = nn.Sequential(nn.Linear(latent_dim, 128 * self.init_size ** 2))\n",
    "\n",
    "        self.conv_blocks = nn.Sequential(\n",
    "            nn.BatchNorm2d(128),\n",
    "            nn.Upsample(scale_factor=2),\n",
    "            nn.Conv2d(128, 128, 3, stride=1, padding=1),\n",
    "            nn.BatchNorm2d(128, 0.8),\n",
    "            nn.LeakyReLU(0.2, inplace=True),\n",
    "            nn.Upsample(scale_factor=2),\n",
    "            nn.Conv2d(128, 64, 3, stride=1, padding=1),\n",
    "            nn.BatchNorm2d(64, 0.8),\n",
    "            nn.LeakyReLU(0.2, inplace=True),\n",
    "            nn.Conv2d(64, channels, 3, stride=1, padding=1),\n",
    "            nn.Tanh(),\n",
    "        )\n",
    "\n",
    "    def forward(self, z):\n",
    "        out = self.l1(z)\n",
    "        # print(out.shape)\n",
    "        out = out.view(out.shape[0], 128, self.init_size, self.init_size)\n",
    "        img = self.conv_blocks(out)\n",
    "        return img\n"
   ]
  },
  {
   "cell_type": "markdown",
   "metadata": {},
   "source": [
    "## Section 5.2: Defining the discriminator "
   ]
  },
  {
   "cell_type": "code",
   "execution_count": 11,
   "metadata": {
    "id": "letbHt0qX4tJ"
   },
   "outputs": [],
   "source": [
    "class Discriminator(nn.Module):\n",
    "    def __init__(self):\n",
    "        super(Discriminator, self).__init__()\n",
    "\n",
    "        def discriminator_block(in_filters, out_filters, bn=True):\n",
    "            block = [nn.Conv2d(in_filters, out_filters, 3, 2, 1), nn.LeakyReLU(0.2, inplace=True), nn.Dropout2d(0.25)]\n",
    "            if bn:\n",
    "                block.append(nn.BatchNorm2d(out_filters, 0.8))\n",
    "            return block\n",
    "\n",
    "        self.model = nn.Sequential(\n",
    "            *discriminator_block(channels, 16, bn=False),\n",
    "            *discriminator_block(16, 32),\n",
    "            *discriminator_block(32, 64),\n",
    "            *discriminator_block(64, 128),\n",
    "        )\n",
    "\n",
    "        # The height and width of downsampled image\n",
    "        ds_size = img_size // 2 ** 4\n",
    "        self.adv_layer = nn.Sequential(nn.Linear(128 * ds_size ** 2, 1), nn.Sigmoid())\n",
    "\n",
    "    def forward(self, img):\n",
    "        out = self.model(img)\n",
    "        out = out.view(out.shape[0], -1)\n",
    "        validity = self.adv_layer(out)\n",
    "\n",
    "        return validity"
   ]
  },
  {
   "cell_type": "markdown",
   "metadata": {},
   "source": [
    "## Section 5.3: Initializing weights and importing model objects"
   ]
  },
  {
   "cell_type": "code",
   "execution_count": 12,
   "metadata": {
    "id": "tpwmeMIL9e87"
   },
   "outputs": [],
   "source": [
    "def weights_init_normal(m):\n",
    "    classname = m.__class__.__name__\n",
    "    if classname.find(\"Conv\") != -1:\n",
    "        torch.nn.init.normal_(m.weight.data, 0.0, 0.02)\n",
    "    elif classname.find(\"BatchNorm2d\") != -1:\n",
    "        torch.nn.init.normal_(m.weight.data, 1.0, 0.02)\n",
    "        torch.nn.init.constant_(m.bias.data, 0.0)"
   ]
  },
  {
   "cell_type": "code",
   "execution_count": 13,
   "metadata": {
    "colab": {
     "base_uri": "https://localhost:8080/"
    },
    "id": "2VYQ6xtV93FK",
    "outputId": "ecb18edd-d5e1-4655-d0bf-26b2bd9551bb"
   },
   "outputs": [
    {
     "data": {
      "text/plain": [
       "BCELoss()"
      ]
     },
     "execution_count": 13,
     "metadata": {},
     "output_type": "execute_result"
    }
   ],
   "source": [
    "generator = Generator()\n",
    "discriminator = Discriminator()\n",
    "\n",
    "generator.apply(weights_init_normal)\n",
    "discriminator.apply(weights_init_normal)\n",
    "\n",
    "#Loss Functions\n",
    "adversarial_loss = torch.nn.BCELoss()\n",
    "\n",
    "#Converting them to CUDA\n",
    "generator.to(device)\n",
    "discriminator.to(device)\n",
    "adversarial_loss.to(device)"
   ]
  },
  {
   "cell_type": "markdown",
   "metadata": {},
   "source": [
    "# Section 6: Model Training"
   ]
  },
  {
   "cell_type": "markdown",
   "metadata": {},
   "source": [
    "Some details about model training\n",
    "- The discriminator is trained 2 times for every 1 time the generator is trained in hopes that a good discriminator will lead to better sampling\n",
    "- The experiment is trained for 150 epochs with a multistep LOR reduction for better tuning\n",
    "- A letent dimension of 100 is used"
   ]
  },
  {
   "cell_type": "code",
   "execution_count": 14,
   "metadata": {},
   "outputs": [],
   "source": [
    "def train_generator(imgs,valid):\n",
    "  \n",
    "    optimizer_G.zero_grad()\n",
    "\n",
    "    # Sample noise as generator input\n",
    "    z = torch.randn(imgs.shape[0],latent_dim).to(device)\n",
    "\n",
    "    # Generate a batch of images\n",
    "    gen_imgs = generator(z)\n",
    "\n",
    "    # Loss measures generator's ability to fool the discriminator\n",
    "    g_loss = adversarial_loss(discriminator(gen_imgs), valid)\n",
    "\n",
    "    g_loss.backward()\n",
    "    optimizer_G.step()\n",
    "\n",
    "    return g_loss,gen_imgs\n",
    "\n",
    "\n",
    "def train_discriminator(real_img,gen_imgs,valid,fake):\n",
    "    optimizer_D.zero_grad()\n",
    "\n",
    "    # Measure discriminator's ability to classify real from generated samples\n",
    "    real_loss = adversarial_loss(discriminator(real_img), valid)\n",
    "    fake_loss = adversarial_loss(discriminator(gen_imgs.detach()), fake)\n",
    "    d_loss = (real_loss + fake_loss) / 2\n",
    "\n",
    "    d_loss.backward()\n",
    "    optimizer_D.step()\n",
    "    \n",
    "    return d_loss\n",
    "\n",
    "\n"
   ]
  },
  {
   "cell_type": "code",
   "execution_count": 15,
   "metadata": {
    "colab": {
     "base_uri": "https://localhost:8080/",
     "height": 307
    },
    "id": "p0GbRCCWAFpy",
    "outputId": "b2eb5967-3ce1-45a7-a26f-f8368344d7e8"
   },
   "outputs": [
    {
     "name": "stdout",
     "output_type": "stream",
     "text": [
      "[Epoch 149/150] [Batch 126/127] [D loss: 0.520582] [G loss: 0.597972]  ETA: 0:00:00.511901"
     ]
    }
   ],
   "source": [
    "optimizer_G = torch.optim.Adam(generator.parameters(), lr=lr, betas=(0.5, 0.999))\n",
    "optimizer_D = torch.optim.Adam(discriminator.parameters(), lr=lr, betas=(0.5,0.999))\n",
    "\n",
    "scheduler_G = torch.optim.lr_scheduler.MultiStepLR(optimizer_G, milestones=[50,75,125],gamma=0.4)\n",
    "scheduler_D = torch.optim.lr_scheduler.MultiStepLR(optimizer_D, milestones=[50,75,125],gamma=0.4)\n",
    "\n",
    "prev_time = time.time()\n",
    "\n",
    "g_losses=[]\n",
    "d_losses=[]\n",
    "\n",
    "for epoch in range(n_epochs):\n",
    "    \n",
    "    for i, imgs in enumerate(dataloader):\n",
    "        \n",
    "        real_img=imgs.to(device)\n",
    "\n",
    "        # Adversarial ground truths\n",
    "        valid = torch.ones(imgs.size(0),1,device=device)\n",
    "        fake  = torch.zeros(imgs.size(0),1,device=device)\n",
    "\n",
    "        # -----------------\n",
    "        #  Train Generator\n",
    "        # -----------------\n",
    "        g_loss,gen_imgs = train_generator(imgs,valid)\n",
    "        \n",
    "\n",
    "        # ---------------------\n",
    "        #  Train Discriminator\n",
    "        # ---------------------\n",
    "        d_loss=train_discriminator(real_img,gen_imgs,valid,fake)\n",
    "        d_loss=train_discriminator(real_img,gen_imgs,valid,fake)\n",
    "        \n",
    "  \n",
    "        batches_done = epoch * len(dataloader) + i\n",
    "        batches_left = n_epochs * len(dataloader) - batches_done\n",
    "        time_left = datetime.timedelta(seconds=batches_left * (time.time() - prev_time))\n",
    "        prev_time = time.time()\n",
    "\n",
    "        sys.stdout.write(\n",
    "          \"\\r[Epoch %d/%d] [Batch %d/%d] [D loss: %f] [G loss: %f]  ETA: %s\"\n",
    "          % (epoch, n_epochs, i, len(dataloader), d_loss.item(), g_loss.item(),time_left)\n",
    "        )\n",
    "        \n",
    "        if batches_done % sample_interval == 0:\n",
    "          save_image(gen_imgs.data[:100], Path(save_dir,'{0}.png'.format(batches_done)).as_posix(), nrow=10, normalize=True)\n",
    "\n",
    "    g_losses.append(g_loss.item())\n",
    "    d_losses.append(d_loss.item())\n",
    "    scheduler_G.step()\n",
    "    scheduler_D.step()\n",
    "\n",
    "    if checkpoint_interval != -1 and epoch % checkpoint_interval == 0:\n",
    "      # Save model checkpoints\n",
    "      torch.save(generator.state_dict(), Path(model_save_path,'bitmoji_generator_{0}.pth'.format(epoch)).as_posix())\n",
    "      torch.save(discriminator.state_dict(), Path(model_save_path,'bitmoji_discriminator_{0}.pth'.format(epoch)).as_posix())"
   ]
  },
  {
   "cell_type": "code",
   "execution_count": 16,
   "metadata": {
    "id": "UKWx58DNnvK9"
   },
   "outputs": [
    {
     "data": {
      "image/png": "[encoded data removed]",
      "text/plain": [
       "<Figure size 720x432 with 1 Axes>"
      ]
     },
     "metadata": {
      "needs_background": "light"
     },
     "output_type": "display_data"
    }
   ],
   "source": [
    "x=range(len(g_losses))\n",
    "\n",
    "plt.figure(figsize=(10,6))\n",
    "plt.plot(x,g_losses ,'-')\n",
    "plt.scatter(x,g_losses)\n",
    "plt.xlabel('Epoch')\n",
    "plt.ylabel('Generator Loss')\n",
    "plt.title('Genraote Loss over Time')\n",
    "plt.show()\n"
   ]
  },
  {
   "cell_type": "code",
   "execution_count": 17,
   "metadata": {},
   "outputs": [
    {
     "data": {
      "image/png": "[encoded data removed]",
      "text/plain": [
       "<Figure size 720x432 with 1 Axes>"
      ]
     },
     "metadata": {
      "needs_background": "light"
     },
     "output_type": "display_data"
    }
   ],
   "source": [
    "x=range(len(d_losses))\n",
    "\n",
    "plt.figure(figsize=(10,6))\n",
    "plt.plot(x,d_losses ,'-')\n",
    "plt.scatter(x,d_losses)\n",
    "plt.xlabel('Epoch')\n",
    "plt.ylabel('Discriminator Loss')\n",
    "plt.title('Discriminator Loss over Time')\n",
    "plt.show()\n"
   ]
  },
  {
   "cell_type": "markdown",
   "metadata": {},
   "source": [
    "## Section 6.2: Observations from training\n",
    "- It can be observed the training is not fully stabilized yet which can be observed from the fluctuating D_loss and G_loss\n",
    "- Training for more epochs or using a more complex Generative network might be more helpful \n",
    " "
   ]
  },
  {
   "cell_type": "markdown",
   "metadata": {},
   "source": [
    "# Section 7: creating a video of generated samples during training"
   ]
  },
  {
   "attachments": {},
   "cell_type": "markdown",
   "metadata": {},
   "source": [
    "**The video can be found here: https://youtube.com/shorts/QXhOsPC2CJE**"
   ]
  },
  {
   "cell_type": "code",
   "execution_count": 3,
   "metadata": {},
   "outputs": [],
   "source": [
    "import cv2\n",
    "import os\n",
    "\n",
    "image_folder = r'D:\\pytorch-zero to gans\\dcgan\\saved_images'\n",
    "video_name = r'D:\\pytorch-zero to gans\\dcgan\\gans_training.avi'\n",
    "\n",
    "images = [img for img in os.listdir(image_folder) if img.endswith(\".png\")]\n",
    "frame = cv2.imread(os.path.join(image_folder, images[0]))\n",
    "height, width, layers = frame.shape\n",
    "\n",
    "video = cv2.VideoWriter(video_name, 0, 4, (width,height))\n",
    "\n",
    "for image in images:\n",
    "    video.write(cv2.imread(os.path.join(image_folder, image)))\n",
    "\n",
    "cv2.destroyAllWindows()\n",
    "video.release()"
   ]
  },
  {
   "attachments": {},
   "cell_type": "markdown",
   "metadata": {},
   "source": [
    "# Section 8: Inference (i.e) Generating image from Latent space"
   ]
  },
  {
   "cell_type": "code",
   "execution_count": 6,
   "metadata": {},
   "outputs": [
    {
     "data": {
      "text/plain": [
       "<All keys matched successfully>"
      ]
     },
     "execution_count": 6,
     "metadata": {},
     "output_type": "execute_result"
    }
   ],
   "source": [
    "device = torch.device('cuda:0' if torch.cuda.is_available() else 'cpu')\n",
    "generator = Generator()\n",
    "generator.to(device)\n",
    "generator.load_state_dict(torch.load(r'bitmoji_generator_140.pth'))\n",
    "\n",
    "def denormalize(images, means, stds):\n",
    "    if len(images.shape) == 3:\n",
    "        images = images.unsqueeze(0)\n",
    "    means = torch.tensor(means).reshape(1, 3, 1, 1).to(device)\n",
    "    stds = torch.tensor(stds).reshape(1, 3, 1, 1).to(device)\n",
    "    return images * stds + means\n",
    "\n",
    "stats = ([0.5,0.5,0.5], [0.5,0.5,0.5])"
   ]
  },
  {
   "cell_type": "code",
   "execution_count": 26,
   "metadata": {},
   "outputs": [],
   "source": [
    "z = torch.randn(1,latent_dim).to(device)\n",
    "gen_imgs = generator(z)\n",
    "out=denormalize(gen_imgs, *stats)\n",
    "out=out.squeeze(0)\n",
    "x=transforms.ToPILImage()(out)"
   ]
  },
  {
   "cell_type": "code",
   "execution_count": 27,
   "metadata": {},
   "outputs": [
    {
     "data": {
      "image/png": "[encoded data removed]",
      "text/plain": [
       "<PIL.Image.Image image mode=RGB size=64x64 at 0x7FE1D3711C70>"
      ]
     },
     "execution_count": 27,
     "metadata": {},
     "output_type": "execute_result"
    }
   ],
   "source": [
    "x"
   ]
  },
  {
   "attachments": {},
   "cell_type": "markdown",
   "metadata": {},
   "source": [
    "# Section 9: Calculating FID metric for 1000 generated images"
   ]
  },
  {
   "cell_type": "code",
   "execution_count": 25,
   "metadata": {},
   "outputs": [],
   "source": [
    "\n",
    "os.makedirs(r'generated_images',exist_ok=True)\n",
    "\n",
    "\n",
    "for i in range(100):\n",
    "    z = torch.randn(1,latent_dim).to(device)\n",
    "    gen_imgs = generator(z)\n",
    "    out=denormalize(gen_imgs, *stats)\n",
    "    out=out.squeeze(0)\n",
    "    x=transforms.ToPILImage()(out)\n",
    "    x.save(r'generated_images/image_{}.png'.format(str(i)))\n",
    "    "
   ]
  },
  {
   "cell_type": "code",
   "execution_count": 28,
   "metadata": {},
   "outputs": [
    {
     "name": "stdout",
     "output_type": "stream",
     "text": [
      "Collecting pytorch-fid\n",
      "  Downloading pytorch_fid-0.3.0-py3-none-any.whl (15 kB)\n",
      "Requirement already satisfied: numpy in /opt/conda/lib/python3.8/site-packages (from pytorch-fid) (1.22.2)\n",
      "Requirement already satisfied: scipy in /opt/conda/lib/python3.8/site-packages (from pytorch-fid) (1.6.3)\n",
      "Requirement already satisfied: torchvision>=0.2.2 in /opt/conda/lib/python3.8/site-packages (from pytorch-fid) (0.14.0)\n",
      "Requirement already satisfied: torch>=1.0.1 in /opt/conda/lib/python3.8/site-packages (from pytorch-fid) (1.13.0)\n",
      "Requirement already satisfied: pillow in /opt/conda/lib/python3.8/site-packages (from pytorch-fid) (9.0.0)\n",
      "Requirement already satisfied: typing-extensions in /opt/conda/lib/python3.8/site-packages (from torch>=1.0.1->pytorch-fid) (4.0.1)\n",
      "Requirement already satisfied: nvidia-cublas-cu11==11.10.3.66 in /opt/conda/lib/python3.8/site-packages (from torch>=1.0.1->pytorch-fid) (11.10.3.66)\n",
      "Requirement already satisfied: nvidia-cuda-nvrtc-cu11==11.7.99 in /opt/conda/lib/python3.8/site-packages (from torch>=1.0.1->pytorch-fid) (11.7.99)\n",
      "Requirement already satisfied: nvidia-cudnn-cu11==8.5.0.96 in /opt/conda/lib/python3.8/site-packages (from torch>=1.0.1->pytorch-fid) (8.5.0.96)\n",
      "Requirement already satisfied: nvidia-cuda-runtime-cu11==11.7.99 in /opt/conda/lib/python3.8/site-packages (from torch>=1.0.1->pytorch-fid) (11.7.99)\n",
      "Requirement already satisfied: wheel in /opt/conda/lib/python3.8/site-packages (from nvidia-cublas-cu11==11.10.3.66->torch>=1.0.1->pytorch-fid) (0.37.0)\n",
      "Requirement already satisfied: setuptools in /opt/conda/lib/python3.8/site-packages (from nvidia-cublas-cu11==11.10.3.66->torch>=1.0.1->pytorch-fid) (59.5.0)\n",
      "Requirement already satisfied: requests in /opt/conda/lib/python3.8/site-packages (from torchvision>=0.2.2->pytorch-fid) (2.26.0)\n",
      "Requirement already satisfied: charset-normalizer~=2.0.0 in /opt/conda/lib/python3.8/site-packages (from requests->torchvision>=0.2.2->pytorch-fid) (2.0.9)\n",
      "Requirement already satisfied: urllib3<1.27,>=1.21.1 in /opt/conda/lib/python3.8/site-packages (from requests->torchvision>=0.2.2->pytorch-fid) (1.26.7)\n",
      "Requirement already satisfied: idna<4,>=2.5 in /opt/conda/lib/python3.8/site-packages (from requests->torchvision>=0.2.2->pytorch-fid) (3.1)\n",
      "Requirement already satisfied: certifi>=2017.4.17 in /opt/conda/lib/python3.8/site-packages (from requests->torchvision>=0.2.2->pytorch-fid) (2022.9.24)\n",
      "Installing collected packages: pytorch-fid\n",
      "Successfully installed pytorch-fid-0.3.0\n",
      "\u001b[33mWARNING: Running pip as the 'root' user can result in broken permissions and conflicting behaviour with the system package manager. It is recommended to use a virtual environment instead: https://pip.pypa.io/warnings/venv\u001b[0m\u001b[33m\n",
      "\u001b[0m\n",
      "\u001b[1m[\u001b[0m\u001b[34;49mnotice\u001b[0m\u001b[1;39;49m]\u001b[0m\u001b[39;49m A new release of pip available: \u001b[0m\u001b[31;49m22.3.1\u001b[0m\u001b[39;49m -> \u001b[0m\u001b[32;49m23.1.2\u001b[0m\n",
      "\u001b[1m[\u001b[0m\u001b[34;49mnotice\u001b[0m\u001b[1;39;49m]\u001b[0m\u001b[39;49m To update, run: \u001b[0m\u001b[32;49mpip install --upgrade pip\u001b[0m\n"
     ]
    }
   ],
   "source": [
    "!pip install pytorch-fid"
   ]
  },
  {
   "cell_type": "code",
   "execution_count": 29,
   "metadata": {},
   "outputs": [
    {
     "name": "stdout",
     "output_type": "stream",
     "text": [
      "Downloading: \"https://github.com/mseitzer/pytorch-fid/releases/download/fid_weights/pt_inception-2015-12-05-6726825d.pth\" to /home/.cache/torch/hub/checkpoints/pt_inception-2015-12-05-6726825d.pth\n",
      "100%|██████████████████████████████████████| 91.2M/91.2M [00:07<00:00, 13.0MB/s]\n",
      "100%|█████████████████████████████████████████████| 2/2 [00:01<00:00,  1.30it/s]\n",
      "100%|███████████████████████████████████████████| 20/20 [00:02<00:00,  6.78it/s]\n",
      "FID:  192.81525894572738\n"
     ]
    }
   ],
   "source": [
    "!python -m pytorch_fid generated_images/ val/"
   ]
  },
  {
   "attachments": {},
   "cell_type": "markdown",
   "metadata": {},
   "source": [
    "# Section 10: Final Conclusions\n",
    "1. A DCGAN was trained, however a good stable tarining was difficult to obtain\n",
    "2. The generated images from tarining can be accessed here: https://www.youtube.com/shorts/QXhOsPC2CJE\n",
    "3. The FID metric for generated 1000 images and images from validation dataset was found to be 192.8 "
   ]
  }
 ],
 "metadata": {
  "accelerator": "GPU",
  "colab": {
   "provenance": []
  },
  "gpuClass": "standard",
  "kernelspec": {
   "display_name": "Python 3",
   "language": "python",
   "name": "python3"
  },
  "language_info": {
   "codemirror_mode": {
    "name": "ipython",
    "version": 3
   },
   "file_extension": ".py",
   "mimetype": "text/x-python",
   "name": "python",
   "nbconvert_exporter": "python",
   "pygments_lexer": "ipython3",
   "version": "3.8.12"
  }
 },
 "nbformat": 4,
 "nbformat_minor": 4
}
